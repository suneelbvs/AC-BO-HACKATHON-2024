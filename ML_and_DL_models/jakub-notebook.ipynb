{
 "cells": [
  {
   "cell_type": "code",
   "execution_count": 1,
   "metadata": {},
   "outputs": [
    {
     "name": "stderr",
     "output_type": "stream",
     "text": [
      "Downloading...\n",
      "100%|██████████| 53.6k/53.6k [00:00<00:00, 854kiB/s]\n",
      "Loading...\n",
      "Done!\n"
     ]
    },
    {
     "data": {
      "text/plain": [
       "<tdc.single_pred.adme.ADME at 0x15c120680>"
      ]
     },
     "execution_count": 1,
     "metadata": {},
     "output_type": "execute_result"
    }
   ],
   "source": [
    "from tdc.single_pred import ADME\n",
    "data = ADME(name = 'Half_Life_Obach')"
   ]
  },
  {
   "cell_type": "code",
   "execution_count": 2,
   "metadata": {},
   "outputs": [
    {
     "data": {
      "text/html": [
       "<div>\n",
       "<style scoped>\n",
       "    .dataframe tbody tr th:only-of-type {\n",
       "        vertical-align: middle;\n",
       "    }\n",
       "\n",
       "    .dataframe tbody tr th {\n",
       "        vertical-align: top;\n",
       "    }\n",
       "\n",
       "    .dataframe thead th {\n",
       "        text-align: right;\n",
       "    }\n",
       "</style>\n",
       "<table border=\"1\" class=\"dataframe\">\n",
       "  <thead>\n",
       "    <tr style=\"text-align: right;\">\n",
       "      <th></th>\n",
       "      <th>Drug_ID</th>\n",
       "      <th>Drug</th>\n",
       "      <th>Y</th>\n",
       "    </tr>\n",
       "  </thead>\n",
       "  <tbody>\n",
       "    <tr>\n",
       "      <th>0</th>\n",
       "      <td>CHEMBL1754</td>\n",
       "      <td>CCN1CC(CCN2CCOCC2)C(c2ccccc2)(c2ccccc2)C1=O</td>\n",
       "      <td>4.1</td>\n",
       "    </tr>\n",
       "    <tr>\n",
       "      <th>1</th>\n",
       "      <td>CHEMBL1484</td>\n",
       "      <td>COC(=O)C1=C(C)NC(C)=C(C(=O)OCCN(C)Cc2ccccc2)C1...</td>\n",
       "      <td>4.1</td>\n",
       "    </tr>\n",
       "    <tr>\n",
       "      <th>2</th>\n",
       "      <td>CHEMBL478</td>\n",
       "      <td>Clc1cccc(N2CCNCC2)c1</td>\n",
       "      <td>4.7</td>\n",
       "    </tr>\n",
       "    <tr>\n",
       "      <th>3</th>\n",
       "      <td>CHEMBL1097</td>\n",
       "      <td>CCN(CC)CCNC(=O)c1ccc(NC(C)=O)cc1</td>\n",
       "      <td>6.4</td>\n",
       "    </tr>\n",
       "    <tr>\n",
       "      <th>4</th>\n",
       "      <td>CHEMBL517712</td>\n",
       "      <td>CN1[C@H]2CC[C@@H]1C[C@H](OC(=O)C(CO)c1ccccc1)C2</td>\n",
       "      <td>4.1</td>\n",
       "    </tr>\n",
       "    <tr>\n",
       "      <th>...</th>\n",
       "      <td>...</td>\n",
       "      <td>...</td>\n",
       "      <td>...</td>\n",
       "    </tr>\n",
       "    <tr>\n",
       "      <th>662</th>\n",
       "      <td>CHEMBL13209</td>\n",
       "      <td>O=C1CN=C(c2ccccc2)c2cc([N+](=O)[O-])ccc2N1</td>\n",
       "      <td>26.0</td>\n",
       "    </tr>\n",
       "    <tr>\n",
       "      <th>663</th>\n",
       "      <td>CHEMBL834</td>\n",
       "      <td>NCCC(O)(P(=O)(O)O)P(=O)(O)O</td>\n",
       "      <td>32.0</td>\n",
       "    </tr>\n",
       "    <tr>\n",
       "      <th>664</th>\n",
       "      <td>CHEMBL1213351</td>\n",
       "      <td>CCC(=O)O[C@](Cc1ccccc1)(c1ccccc1)[C@H](C)CN(C)C</td>\n",
       "      <td>18.0</td>\n",
       "    </tr>\n",
       "    <tr>\n",
       "      <th>665</th>\n",
       "      <td>CHEMBL457547</td>\n",
       "      <td>CCCCCOc1ccc(-c2cc(-c3ccc(C(=O)N[C@H]4C[C@@H](O...</td>\n",
       "      <td>16.0</td>\n",
       "    </tr>\n",
       "    <tr>\n",
       "      <th>666</th>\n",
       "      <td>CHEMBL448</td>\n",
       "      <td>CCCC(C)C1(CC)C(=O)NC(=O)NC1=O</td>\n",
       "      <td>22.0</td>\n",
       "    </tr>\n",
       "  </tbody>\n",
       "</table>\n",
       "<p>667 rows × 3 columns</p>\n",
       "</div>"
      ],
      "text/plain": [
       "           Drug_ID                                               Drug     Y\n",
       "0       CHEMBL1754        CCN1CC(CCN2CCOCC2)C(c2ccccc2)(c2ccccc2)C1=O   4.1\n",
       "1       CHEMBL1484  COC(=O)C1=C(C)NC(C)=C(C(=O)OCCN(C)Cc2ccccc2)C1...   4.1\n",
       "2        CHEMBL478                               Clc1cccc(N2CCNCC2)c1   4.7\n",
       "3       CHEMBL1097                   CCN(CC)CCNC(=O)c1ccc(NC(C)=O)cc1   6.4\n",
       "4     CHEMBL517712    CN1[C@H]2CC[C@@H]1C[C@H](OC(=O)C(CO)c1ccccc1)C2   4.1\n",
       "..             ...                                                ...   ...\n",
       "662    CHEMBL13209         O=C1CN=C(c2ccccc2)c2cc([N+](=O)[O-])ccc2N1  26.0\n",
       "663      CHEMBL834                        NCCC(O)(P(=O)(O)O)P(=O)(O)O  32.0\n",
       "664  CHEMBL1213351    CCC(=O)O[C@](Cc1ccccc1)(c1ccccc1)[C@H](C)CN(C)C  18.0\n",
       "665   CHEMBL457547  CCCCCOc1ccc(-c2cc(-c3ccc(C(=O)N[C@H]4C[C@@H](O...  16.0\n",
       "666      CHEMBL448                      CCCC(C)C1(CC)C(=O)NC(=O)NC1=O  22.0\n",
       "\n",
       "[667 rows x 3 columns]"
      ]
     },
     "execution_count": 2,
     "metadata": {},
     "output_type": "execute_result"
    }
   ],
   "source": [
    "data.get_data()"
   ]
  },
  {
   "cell_type": "code",
   "execution_count": null,
   "metadata": {},
   "outputs": [],
   "source": [
    "# get number of "
   ]
  }
 ],
 "metadata": {
  "kernelspec": {
   "display_name": "bo-hackathon",
   "language": "python",
   "name": "python3"
  },
  "language_info": {
   "codemirror_mode": {
    "name": "ipython",
    "version": 3
   },
   "file_extension": ".py",
   "mimetype": "text/x-python",
   "name": "python",
   "nbconvert_exporter": "python",
   "pygments_lexer": "ipython3",
   "version": "3.12.2"
  }
 },
 "nbformat": 4,
 "nbformat_minor": 2
}
