{
 "cells": [
  {
   "cell_type": "code",
   "execution_count": 51,
   "id": "d6b8f3fe-4b3b-4e62-b4cb-f2a8357733e6",
   "metadata": {},
   "outputs": [],
   "source": [
    "from tdc.utils import retrieve_label_name_list\n",
    "from xgboost import XGBRegressor\n",
    "from sklearn.model_selection import StratifiedKFold\n",
    "from sklearn.metrics import mean_squared_error\n",
    "import numpy as np\n"
   ]
  },
  {
   "cell_type": "code",
   "execution_count": 52,
   "id": "f3b94d9a-cec6-4250-ba93-4b40f66ea176",
   "metadata": {},
   "outputs": [
    {
     "name": "stderr",
     "output_type": "stream",
     "text": [
      "Found local copy...\n",
      "Loading...\n",
      "Done!\n"
     ]
    }
   ],
   "source": [
    "label_list = retrieve_label_name_list('Tox21')\n",
    "data = Tox(name = 'Tox21', label_name = label_list[0])\n",
    "split = data.get_split()"
   ]
  },
  {
   "cell_type": "code",
   "execution_count": 53,
   "id": "a78764e3-a05b-4991-a64e-7d0fdd5dfc7b",
   "metadata": {},
   "outputs": [],
   "source": [
    "test = split['test']\n",
    "train = split['train']"
   ]
  },
  {
   "cell_type": "code",
   "execution_count": 54,
   "id": "d9bdb086-367f-4c80-831b-4c412800839b",
   "metadata": {},
   "outputs": [
    {
     "data": {
      "text/html": [
       "<div>\n",
       "<style scoped>\n",
       "    .dataframe tbody tr th:only-of-type {\n",
       "        vertical-align: middle;\n",
       "    }\n",
       "\n",
       "    .dataframe tbody tr th {\n",
       "        vertical-align: top;\n",
       "    }\n",
       "\n",
       "    .dataframe thead th {\n",
       "        text-align: right;\n",
       "    }\n",
       "</style>\n",
       "<table border=\"1\" class=\"dataframe\">\n",
       "  <thead>\n",
       "    <tr style=\"text-align: right;\">\n",
       "      <th></th>\n",
       "      <th>Drug_ID</th>\n",
       "      <th>Drug</th>\n",
       "    </tr>\n",
       "    <tr>\n",
       "      <th>Y</th>\n",
       "      <th></th>\n",
       "      <th></th>\n",
       "    </tr>\n",
       "  </thead>\n",
       "  <tbody>\n",
       "    <tr>\n",
       "      <th>0.0</th>\n",
       "      <td>4878</td>\n",
       "      <td>4878</td>\n",
       "    </tr>\n",
       "    <tr>\n",
       "      <th>1.0</th>\n",
       "      <td>208</td>\n",
       "      <td>208</td>\n",
       "    </tr>\n",
       "  </tbody>\n",
       "</table>\n",
       "</div>"
      ],
      "text/plain": [
       "     Drug_ID  Drug\n",
       "Y                 \n",
       "0.0     4878  4878\n",
       "1.0      208   208"
      ]
     },
     "execution_count": 54,
     "metadata": {},
     "output_type": "execute_result"
    }
   ],
   "source": [
    "train.groupby('Y').count()"
   ]
  },
  {
   "cell_type": "code",
   "execution_count": 55,
   "id": "f9ce88c3-d45f-445d-8b13-b38aef8ae8d9",
   "metadata": {},
   "outputs": [],
   "source": [
    "SEED = 9582\n",
    "N_FOLD = 5\n",
    "\n",
    "model_params = {\n",
    "    'reg_alpha': 0.0008774661176012108,\n",
    "    'reg_lambda': 2.542812743920178,\n",
    "    'colsample_bynode': 0.7839026197349153,\n",
    "    'subsample': 0.8994226268096415, \n",
    "    # subsample=1,\n",
    "    'eta': 0.04730766698056879, \n",
    "    'max_depth': 3, \n",
    "    'n_estimators': 500,\n",
    "    'random_state': SEED,\n",
    "    'eval_metric': 'rmse',\n",
    "    'n_jobs': -1,\n",
    "    'learning_rate':0.023,\n",
    "}\n",
    "\n",
    "class ModelTrainer():\n",
    "    def __init__(self, data_X, data_Y, params):\n",
    "        self.params = params\n",
    "        self.X = data_X\n",
    "        self.Y = data_Y\n",
    "        self.model = None\n",
    "    \n",
    "    # Get the trained model        \n",
    "    def get_model(self):\n",
    "        return self.model\n",
    "    \n",
    "    def _init_model(self, add_to_seed):\n",
    "        new_params = self.params.copy()\n",
    "        new_params[\"random_state\"] += add_to_seed + 1\n",
    "        self.model = XGBRegressor(**new_params)\n",
    "    \n",
    "    def train_model(self):           \n",
    "        # Split the training data into N_FOLD\n",
    "        skf = StratifiedKFold(n_splits=N_FOLD, random_state=SEED, shuffle=True)\n",
    "        fold_rmses = []\n",
    "\n",
    "        # Initialize lists to store predictions and actual values\n",
    "        all_predictions = []\n",
    "        all_actual = []\n",
    "        all_importances = []\n",
    "        for fold, (train_index, valid_index) in enumerate(skf.split(self.X, self.Y.astype(str))):\n",
    "            train_x = self.X.iloc[train_index]\n",
    "            train_y = self.Y[train_index]\n",
    "            valid_x = self.X.iloc[valid_index]\n",
    "            valid_y = self.Y[valid_index]\n",
    "\n",
    "\n",
    "            self._init_model(fold + 1)\n",
    "\n",
    "            # Fit the model with train x and train y\n",
    "            self.model.fit(train_x, train_y,\n",
    "                              #verbose=2, # Single line processing\n",
    "                               verbose=0,\n",
    "                              )\n",
    "            all_importances.append(self.model.feature_importances_)\n",
    "                \n",
    "            predictions = self.model.predict(valid_x)  # do NOT clip the prediction, so the error is accurate\n",
    "            rmse = mean_squared_error(y_true=valid_y, y_pred=predictions, squared=False) # Return RMSE\n",
    "            fold_rmses.append(rmse)\n",
    "\n",
    "            # Store predictions and actual values\n",
    "            all_predictions.extend(predictions)\n",
    "            all_actual.extend(valid_y)\n",
    "        avg_rmse = np.mean(fold_rmses)\n",
    "        # print(f\"Average rmse: {avg_rmse}\") \n",
    "        return {\n",
    "            \"avg_rmse\": avg_rmse,\n",
    "            \"predictions\": all_predictions,\n",
    "            \"actual\": all_actual,\n",
    "            \"all_importances\": all_importances\n",
    "        }\n",
    "\n",
    "    def train_model_on_all_data(self, add_to_seed):\n",
    "        # Fit the model with train x and train y\n",
    "        self.model.fit(self.X, self.Y,\n",
    "                          #verbose=2, # Single line processing\n",
    "                           verbose=0,\n",
    "                          )\n",
    "        \n",
    "    # Predict the test data. \n",
    "    def _predict(self, test_x):\n",
    "        # Prediction loop\n",
    "        tests_y = np.zeros((len(test_x), N_FOLD))\n",
    "        for fold in range(N_FOLD):\n",
    "            preds = self.model.predict(test_x)  # do NOT clip the prediction, so the error is accurate\n",
    "            tests_y[:, fold] = preds\n",
    "            #print(f\"Fold = {fold} Prediction = {preds[:5]}\")\n",
    "        test_y = np.mean(tests_y, axis=1)\n",
    "        return test_y# Average the prediction of each fold model"
   ]
  },
  {
   "cell_type": "code",
   "execution_count": 56,
   "id": "7322ce6d-95a1-44eb-b4cb-a70c8f7f06d2",
   "metadata": {},
   "outputs": [],
   "source": [
    "def gen_feats(dataset):\n",
    "    dataset[\"num_oxygen\"] = dataset[\"Drug\"].str.count(\"O\")\n",
    "    return dataset\n",
    "test = gen_feats(test)\n",
    "train = gen_feats(train)"
   ]
  },
  {
   "cell_type": "code",
   "execution_count": 57,
   "id": "d1baf09c-6690-4c1f-a79e-92b54e586d4f",
   "metadata": {},
   "outputs": [
    {
     "name": "stdout",
     "output_type": "stream",
     "text": [
      "0.1984982844885025\n"
     ]
    }
   ],
   "source": [
    "def fit_model(train_dataset):\n",
    "    train_x = train_dataset[\"num_oxygen\"]\n",
    "    train_y = train_dataset[\"Y\"]\n",
    "    trainer = ModelTrainer(train_x, train_y, model_params)\n",
    "    res = trainer.train_model()\n",
    "    print(res[\"avg_rmse\"])\n",
    "fit_model(train)"
   ]
  },
  {
   "cell_type": "code",
   "execution_count": null,
   "id": "77ed3890-32ce-4b5d-bcd9-354bb7adef45",
   "metadata": {},
   "outputs": [],
   "source": []
  }
 ],
 "metadata": {
  "kernelspec": {
   "display_name": "Python 3 (ipykernel)",
   "language": "python",
   "name": "python3"
  },
  "language_info": {
   "codemirror_mode": {
    "name": "ipython",
    "version": 3
   },
   "file_extension": ".py",
   "mimetype": "text/x-python",
   "name": "python",
   "nbconvert_exporter": "python",
   "pygments_lexer": "ipython3",
   "version": "3.11.8"
  }
 },
 "nbformat": 4,
 "nbformat_minor": 5
}
