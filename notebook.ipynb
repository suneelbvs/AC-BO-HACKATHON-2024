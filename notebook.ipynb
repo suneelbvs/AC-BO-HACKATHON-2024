{
 "cells": [
  {
   "cell_type": "code",
   "execution_count": 2,
   "metadata": {},
   "outputs": [],
   "source": [
    "#read the data \n",
    "\n",
    "import numpy as np\n",
    "import pandas as pd \n",
    "import os \n",
    "import ast \n",
    "\n",
    "data = pd.read_csv(r\"datasets\\fingerprint_datasets\\tox21.csv\")\n",
    "#check the data\n",
    "#data['fingerprints']=data['fingerprints'].apply(ast.literal_eval)\n"
   ]
  },
  {
   "cell_type": "code",
   "execution_count": 3,
   "metadata": {},
   "outputs": [
    {
     "data": {
      "text/plain": [
       "309.0"
      ]
     },
     "execution_count": 3,
     "metadata": {},
     "output_type": "execute_result"
    }
   ],
   "source": [
    "data['Y'].sum()"
   ]
  },
  {
   "cell_type": "code",
   "execution_count": 7,
   "metadata": {},
   "outputs": [
    {
     "name": "stdout",
     "output_type": "stream",
     "text": [
      "(7265, 2048)\n"
     ]
    }
   ],
   "source": [
    "finger_prints = np.stack(data['fingerprints'].values)\n",
    "print(finger_prints.shape)\n"
   ]
  },
  {
   "cell_type": "code",
   "execution_count": 6,
   "metadata": {},
   "outputs": [
    {
     "data": {
      "text/plain": [
       "2048"
      ]
     },
     "execution_count": 6,
     "metadata": {},
     "output_type": "execute_result"
    }
   ],
   "source": [
    "len(data['fingerprints'][0])"
   ]
  },
  {
   "cell_type": "code",
   "execution_count": 3,
   "metadata": {},
   "outputs": [
    {
     "name": "stdout",
     "output_type": "stream",
     "text": [
      "[[1 2 3]\n",
      " [4 5 6]\n",
      " [7 8 9]]\n"
     ]
    }
   ],
   "source": [
    "import numpy as np\n",
    "import pandas as pd\n",
    "import ast\n",
    "\n",
    "# Example DataFrame with string representation of lists\n",
    "data = {\n",
    "    'string_lists': ['[1, 2, 3]', '[4, 5, 6]', '[7, 8, 9]']\n",
    "}\n",
    "df = pd.DataFrame(data)\n",
    "\n",
    "# Convert string representations to actual lists\n",
    "df['lists'] = df['string_lists'].apply(ast.literal_eval)\n",
    "\n",
    "# Convert the 'lists' column (now containing actual lists) to a numpy array\n",
    "numpy_array = np.stack(df['lists'].values)\n",
    "\n",
    "print(numpy_array)\n"
   ]
  },
  {
   "cell_type": "code",
   "execution_count": null,
   "metadata": {},
   "outputs": [],
   "source": []
  },
  {
   "cell_type": "code",
   "execution_count": null,
   "metadata": {},
   "outputs": [],
   "source": []
  }
 ],
 "metadata": {
  "kernelspec": {
   "display_name": "BOHackthon",
   "language": "python",
   "name": "python3"
  },
  "language_info": {
   "codemirror_mode": {
    "name": "ipython",
    "version": 3
   },
   "file_extension": ".py",
   "mimetype": "text/x-python",
   "name": "python",
   "nbconvert_exporter": "python",
   "pygments_lexer": "ipython3",
   "version": "3.12.2"
  }
 },
 "nbformat": 4,
 "nbformat_minor": 2
}
