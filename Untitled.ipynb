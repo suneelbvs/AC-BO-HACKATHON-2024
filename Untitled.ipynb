{
 "cells": [
  {
   "cell_type": "code",
   "execution_count": 1,
   "id": "d6b8f3fe-4b3b-4e62-b4cb-f2a8357733e6",
   "metadata": {},
   "outputs": [],
   "source": [
    "from tdc.utils import retrieve_label_name_list\n",
    "label_list = retrieve_label_name_list('Tox21')"
   ]
  },
  {
   "cell_type": "code",
   "execution_count": 2,
   "id": "f3b94d9a-cec6-4250-ba93-4b40f66ea176",
   "metadata": {},
   "outputs": [
    {
     "name": "stderr",
     "output_type": "stream",
     "text": [
      "Downloading...\n",
      "100%|████████████████████████| 712k/712k [00:00<00:00, 6.58MiB/s]\n",
      "Loading...\n",
      "Done!\n"
     ]
    }
   ],
   "source": [
    "from tdc.single_pred import Tox\n",
    "data = Tox(name = 'Tox21', label_name = label_list[0])\n",
    "split = data.get_split()"
   ]
  },
  {
   "cell_type": "code",
   "execution_count": 4,
   "id": "a78764e3-a05b-4991-a64e-7d0fdd5dfc7b",
   "metadata": {},
   "outputs": [
    {
     "data": {
      "text/html": [
       "<div>\n",
       "<style scoped>\n",
       "    .dataframe tbody tr th:only-of-type {\n",
       "        vertical-align: middle;\n",
       "    }\n",
       "\n",
       "    .dataframe tbody tr th {\n",
       "        vertical-align: top;\n",
       "    }\n",
       "\n",
       "    .dataframe thead th {\n",
       "        text-align: right;\n",
       "    }\n",
       "</style>\n",
       "<table border=\"1\" class=\"dataframe\">\n",
       "  <thead>\n",
       "    <tr style=\"text-align: right;\">\n",
       "      <th></th>\n",
       "      <th>Drug_ID</th>\n",
       "      <th>Drug</th>\n",
       "      <th>Y</th>\n",
       "    </tr>\n",
       "  </thead>\n",
       "  <tbody>\n",
       "    <tr>\n",
       "      <th>0</th>\n",
       "      <td>TOX25807</td>\n",
       "      <td>Cc1ccc(S(=O)(=O)N[C@@H](CCCCN)C(=O)CCl)cc1</td>\n",
       "      <td>0.0</td>\n",
       "    </tr>\n",
       "    <tr>\n",
       "      <th>1</th>\n",
       "      <td>TOX27823</td>\n",
       "      <td>[2H]C([2H])([2H])[C@H](N)Cc1ccccc1.[2H]C([2H])...</td>\n",
       "      <td>0.0</td>\n",
       "    </tr>\n",
       "    <tr>\n",
       "      <th>2</th>\n",
       "      <td>TOX231</td>\n",
       "      <td>O=C(O)C=Cc1ccc(O)c(O)c1</td>\n",
       "      <td>1.0</td>\n",
       "    </tr>\n",
       "    <tr>\n",
       "      <th>3</th>\n",
       "      <td>TOX26517</td>\n",
       "      <td>N=C(N)n1cccn1</td>\n",
       "      <td>0.0</td>\n",
       "    </tr>\n",
       "    <tr>\n",
       "      <th>4</th>\n",
       "      <td>TOX24131</td>\n",
       "      <td>Nc1ccc(S(=O)(=O)Nc2ccnn2-c2ccccc2)cc1</td>\n",
       "      <td>0.0</td>\n",
       "    </tr>\n",
       "    <tr>\n",
       "      <th>...</th>\n",
       "      <td>...</td>\n",
       "      <td>...</td>\n",
       "      <td>...</td>\n",
       "    </tr>\n",
       "    <tr>\n",
       "      <th>1448</th>\n",
       "      <td>TOX24933</td>\n",
       "      <td>O=C=NCC1CCCC(CN=C=O)C1</td>\n",
       "      <td>0.0</td>\n",
       "    </tr>\n",
       "    <tr>\n",
       "      <th>1449</th>\n",
       "      <td>TOX4628</td>\n",
       "      <td>NC(=O)NNC(N)=O</td>\n",
       "      <td>0.0</td>\n",
       "    </tr>\n",
       "    <tr>\n",
       "      <th>1450</th>\n",
       "      <td>TOX5668</td>\n",
       "      <td>COC(=O)c1ccc(C)cc1</td>\n",
       "      <td>0.0</td>\n",
       "    </tr>\n",
       "    <tr>\n",
       "      <th>1451</th>\n",
       "      <td>TOX27784</td>\n",
       "      <td>CC(CN(C)C)C(C)(O)Cc1ccc(Cl)cc1</td>\n",
       "      <td>0.0</td>\n",
       "    </tr>\n",
       "    <tr>\n",
       "      <th>1452</th>\n",
       "      <td>TOX23709</td>\n",
       "      <td>CC1=C2C[C@H]3[C@@H](CC=C4C[C@@H](O)CC[C@@]43C)...</td>\n",
       "      <td>0.0</td>\n",
       "    </tr>\n",
       "  </tbody>\n",
       "</table>\n",
       "<p>1453 rows × 3 columns</p>\n",
       "</div>"
      ],
      "text/plain": [
       "       Drug_ID                                               Drug    Y\n",
       "0     TOX25807         Cc1ccc(S(=O)(=O)N[C@@H](CCCCN)C(=O)CCl)cc1  0.0\n",
       "1     TOX27823  [2H]C([2H])([2H])[C@H](N)Cc1ccccc1.[2H]C([2H])...  0.0\n",
       "2       TOX231                            O=C(O)C=Cc1ccc(O)c(O)c1  1.0\n",
       "3     TOX26517                                      N=C(N)n1cccn1  0.0\n",
       "4     TOX24131              Nc1ccc(S(=O)(=O)Nc2ccnn2-c2ccccc2)cc1  0.0\n",
       "...        ...                                                ...  ...\n",
       "1448  TOX24933                             O=C=NCC1CCCC(CN=C=O)C1  0.0\n",
       "1449   TOX4628                                     NC(=O)NNC(N)=O  0.0\n",
       "1450   TOX5668                                 COC(=O)c1ccc(C)cc1  0.0\n",
       "1451  TOX27784                     CC(CN(C)C)C(C)(O)Cc1ccc(Cl)cc1  0.0\n",
       "1452  TOX23709  CC1=C2C[C@H]3[C@@H](CC=C4C[C@@H](O)CC[C@@]43C)...  0.0\n",
       "\n",
       "[1453 rows x 3 columns]"
      ]
     },
     "execution_count": 4,
     "metadata": {},
     "output_type": "execute_result"
    }
   ],
   "source": [
    "split['test']"
   ]
  }
 ],
 "metadata": {
  "kernelspec": {
   "display_name": "Python 3 (ipykernel)",
   "language": "python",
   "name": "python3"
  },
  "language_info": {
   "codemirror_mode": {
    "name": "ipython",
    "version": 3
   },
   "file_extension": ".py",
   "mimetype": "text/x-python",
   "name": "python",
   "nbconvert_exporter": "python",
   "pygments_lexer": "ipython3",
   "version": "3.11.8"
  }
 },
 "nbformat": 4,
 "nbformat_minor": 5
}
